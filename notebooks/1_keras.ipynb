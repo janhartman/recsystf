{
 "cells": [
  {
   "cell_type": "code",
   "execution_count": 1,
   "metadata": {},
   "outputs": [
    {
     "name": "stdout",
     "output_type": "stream",
     "text": [
      "Downloading data from https://storage.googleapis.com/tensorflow/tf-keras-datasets/mnist.npz\n",
      "11493376/11490434 [==============================] - 1s 0us/step\n",
      "Epoch 1/5\n",
      "1875/1875 [==============================] - 2s 1ms/step - loss: 0.2920 - accuracy: 0.9141\n",
      "Epoch 2/5\n",
      "1875/1875 [==============================] - 2s 1ms/step - loss: 0.1408 - accuracy: 0.9587\n",
      "Epoch 3/5\n",
      "1875/1875 [==============================] - 2s 1ms/step - loss: 0.1082 - accuracy: 0.9672\n",
      "Epoch 4/5\n",
      "1875/1875 [==============================] - 2s 1ms/step - loss: 0.0888 - accuracy: 0.9723\n",
      "Epoch 5/5\n",
      "1875/1875 [==============================] - 2s 1ms/step - loss: 0.0753 - accuracy: 0.9769\n",
      "313/313 - 0s - loss: 0.0761 - accuracy: 0.9770\n"
     ]
    },
    {
     "data": {
      "text/plain": [
       "<tf.Tensor: shape=(5, 10), dtype=float32, numpy=\n",
       "array([[1.6031600e-09, 1.2489328e-09, 3.4973734e-06, 6.5911910e-04,\n",
       "        1.2399404e-11, 3.4434160e-07, 4.1058289e-14, 9.9933285e-01,\n",
       "        6.4453403e-08, 4.1222806e-06],\n",
       "       [2.7813027e-07, 3.4880628e-05, 9.9894243e-01, 9.9300547e-04,\n",
       "        2.6209512e-12, 1.7878903e-05, 1.1471030e-08, 7.0002795e-11,\n",
       "        1.1604306e-05, 3.1244807e-10],\n",
       "       [1.7255886e-07, 9.9949408e-01, 1.2639433e-05, 4.3210412e-06,\n",
       "        2.6506441e-05, 2.4879050e-06, 2.7735509e-06, 4.4066360e-04,\n",
       "        1.6059530e-05, 3.0514806e-07],\n",
       "       [9.9905115e-01, 2.2971147e-08, 4.0349705e-04, 6.0095026e-06,\n",
       "        1.1576022e-05, 1.7452288e-05, 3.2114412e-04, 1.2902556e-04,\n",
       "        6.0836355e-06, 5.3941192e-05],\n",
       "       [3.0667297e-06, 5.5017475e-09, 1.7781568e-06, 5.0721758e-07,\n",
       "        9.9004000e-01, 1.2110104e-05, 7.7145273e-07, 3.7910524e-04,\n",
       "        1.9967472e-06, 9.5606148e-03]], dtype=float32)>"
      ]
     },
     "execution_count": 1,
     "metadata": {},
     "output_type": "execute_result"
    }
   ],
   "source": [
    "import tensorflow as tf\n",
    "\n",
    "mnist = tf.keras.datasets.mnist\n",
    "\n",
    "(x_train, y_train), (x_test, y_test) = mnist.load_data()\n",
    "x_train, x_test = x_train / 255.0, x_test / 255.0\n",
    "\n",
    "model = tf.keras.models.Sequential([\n",
    "  tf.keras.layers.Flatten(input_shape=(28, 28)),\n",
    "  tf.keras.layers.Dense(128, activation='relu'),\n",
    "  tf.keras.layers.Dropout(0.2),\n",
    "  tf.keras.layers.Dense(10)\n",
    "])\n",
    "\n",
    "predictions = model(x_train[:1]).numpy()\n",
    "\n",
    "tf.nn.softmax(predictions).numpy()\n",
    "\n",
    "loss_fn = tf.keras.losses.SparseCategoricalCrossentropy(from_logits=True)\n",
    "\n",
    "loss_fn(y_train[:1], predictions).numpy()\n",
    "\n",
    "model.compile(optimizer='adam',\n",
    "              loss=loss_fn,\n",
    "              metrics=['accuracy'])\n",
    "model.fit(x_train, y_train, epochs=5)\n",
    "\n",
    "model.evaluate(x_test,  y_test, verbose=2)\n",
    "\n",
    "probability_model = tf.keras.Sequential([\n",
    "  model,\n",
    "  tf.keras.layers.Softmax()\n",
    "])\n",
    "\n",
    "probability_model(x_test[:5])\n"
   ]
  }
 ],
 "metadata": {
  "kernelspec": {
   "display_name": "Python 3",
   "language": "python",
   "name": "python3"
  },
  "language_info": {
   "codemirror_mode": {
    "name": "ipython",
    "version": 3
   },
   "file_extension": ".py",
   "mimetype": "text/x-python",
   "name": "python",
   "nbconvert_exporter": "python",
   "pygments_lexer": "ipython3",
   "version": "3.7.8"
  }
 },
 "nbformat": 4,
 "nbformat_minor": 4
}
