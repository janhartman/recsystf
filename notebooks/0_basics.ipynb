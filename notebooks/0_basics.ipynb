{
 "cells": [
  {
   "cell_type": "markdown",
   "metadata": {},
   "source": [
    "# TensorFlow - basics"
   ]
  },
  {
   "cell_type": "code",
   "execution_count": 1,
   "metadata": {},
   "outputs": [
    {
     "name": "stdout",
     "output_type": "stream",
     "text": [
      "Hello from TF version 2.3.0\n"
     ]
    }
   ],
   "source": [
    "import tensorflow as tf\n",
    "print(f'Hello from TF version {tf.__version__}')"
   ]
  },
  {
   "cell_type": "markdown",
   "metadata": {},
   "source": [
    "The fundamental object in TensorFlow (TF) is the tensor. A `tf.Tensor` represents a multi-dimensional array with a uniform datatype (similarly to NumPy's `np.ndarray`)."
   ]
  },
  {
   "cell_type": "markdown",
   "metadata": {},
   "source": [
    "#### TF can be like NumPy."
   ]
  },
  {
   "cell_type": "code",
   "execution_count": 2,
   "metadata": {},
   "outputs": [
    {
     "data": {
      "text/plain": [
       "<tf.Tensor: shape=(3, 2), dtype=int32, numpy=\n",
       "array([[  34,  -18],\n",
       "       [  58,  -48],\n",
       "       [  26, -138]], dtype=int32)>"
      ]
     },
     "execution_count": 2,
     "metadata": {},
     "output_type": "execute_result"
    }
   ],
   "source": [
    "a = tf.constant(42)\n",
    "b = tf.constant([8, -6])\n",
    "c = tf.constant([[1, 2], [5, 3], [4, 6]])\n",
    "d = tf.constant([[1, 0], [-1, 5]])\n",
    "a + b * (c @ d)"
   ]
  },
  {
   "cell_type": "markdown",
   "metadata": {},
   "source": [
    "Numpy-like functions are readily available, indexing & slicing and reshaping work like you would expect them to."
   ]
  },
  {
   "cell_type": "code",
   "execution_count": 3,
   "metadata": {},
   "outputs": [
    {
     "name": "stdout",
     "output_type": "stream",
     "text": [
      "Max of c: 6\n",
      "Indices of column maxima of c: [1 2]\n",
      "Slice and reshape result: [5 3 4 6]\n"
     ]
    }
   ],
   "source": [
    "print(f'Max of c: {tf.reduce_max(c)}')\n",
    "print(f'Indices of column maxima of c: {tf.argmax(c)}')\n",
    "print(f'Slice and reshape result: {tf.reshape(c[1:, :], [-1, ])}')"
   ]
  },
  {
   "cell_type": "markdown",
   "metadata": {},
   "source": [
    "Numpy interoperability is usually not a problem. Most TF operations automatically convert a Numpy array (or even a Python list!) to a tensor. You can transform a `tf.Tensor` to a Numpy array by calling `.numpy()` on it."
   ]
  },
  {
   "cell_type": "code",
   "execution_count": 4,
   "metadata": {},
   "outputs": [
    {
     "data": {
      "text/plain": [
       "<tf.Tensor: shape=(2, 1), dtype=int32, numpy=\n",
       "array([[ 1],\n",
       "       [-1]], dtype=int32)>"
      ]
     },
     "execution_count": 4,
     "metadata": {},
     "output_type": "execute_result"
    }
   ],
   "source": [
    "import numpy as np\n",
    "d @ np.array([[1], [0]])"
   ]
  },
  {
   "cell_type": "markdown",
   "metadata": {},
   "source": [
    "Note that TF also includes ragged (uneven) tensors, string tensors and sparse tensors, all of which can be useful."
   ]
  },
  {
   "cell_type": "code",
   "execution_count": 5,
   "metadata": {},
   "outputs": [
    {
     "name": "stdout",
     "output_type": "stream",
     "text": [
      "Ragged (uneven) tensor: \n",
      "<tf.RaggedTensor [[b'zero'], [b'one', b'one'], [b'two', b'three', b'five'], [b'eight', b'thirteen']]>\n",
      "\n",
      "Sparse tensor: \n",
      "SparseTensor(indices=tf.Tensor(\n",
      "[[0 0]\n",
      " [1 2]], shape=(2, 2), dtype=int64), values=tf.Tensor([1 2], shape=(2,), dtype=int32), dense_shape=tf.Tensor([3 4], shape=(2,), dtype=int64))\n",
      "\n",
      "Sparse tensor in dense representation: \n",
      "[[1 0 0 0]\n",
      " [0 0 2 0]\n",
      " [0 0 0 0]]\n"
     ]
    }
   ],
   "source": [
    "uneven_list = [['zero'], ['one', 'one'], ['two', 'three', 'five'], ['eight', 'thirteen']]\n",
    "print(f'Ragged (uneven) tensor: \\n{tf.ragged.constant(uneven_list)}\\n')\n",
    "sparse_tensor = tf.sparse.SparseTensor(indices=[[0, 0], [1, 2]],\n",
    "                                       values=[1, 2],\n",
    "                                       dense_shape=[3, 4])\n",
    "print(f'Sparse tensor: \\n{sparse_tensor}\\n')\n",
    "print(f'Sparse tensor in dense representation: \\n{tf.sparse.to_dense(sparse_tensor)}')"
   ]
  },
  {
   "cell_type": "markdown",
   "metadata": {},
   "source": [
    "#### What can I do in TF that I can't do in Numpy?"
   ]
  },
  {
   "cell_type": "markdown",
   "metadata": {},
   "source": [
    "We'll start with variables. In TF, tensors are immutable, which means that if you perform an operation on a tensor, a copy will be created and the original left unmodified. For something that will be updated frequently (say, model parameters during optimization), this won't do and we'll need to use a `tf.Variable`. A variable behaves similarly to a tensor, but it is mutable and can be modified."
   ]
  },
  {
   "cell_type": "code",
   "execution_count": 49,
   "metadata": {},
   "outputs": [],
   "source": [
    "w = tf.Variable(0.7)\n",
    "b = tf.Variable(-0.1)"
   ]
  },
  {
   "cell_type": "code",
   "execution_count": 68,
   "metadata": {},
   "outputs": [],
   "source": [
    "x = tf.cast(tf.linspace(-1, 1, 20), tf.float32)\n",
    "y = x + tf.random.uniform((20,), -0.05, 0.05, seed=117)\n",
    "\n",
    "with tf.GradientTape() as tape:\n",
    "    y_hat = x * w + b\n",
    "    mse = tf.reduce_mean(tf.pow(y - y_hat, 2))\n"
   ]
  },
  {
   "cell_type": "code",
   "execution_count": 62,
   "metadata": {},
   "outputs": [
    {
     "data": {
      "text/plain": [
       "(<tf.Tensor: shape=(), dtype=float32, numpy=-0.22123986>,\n",
       " <tf.Tensor: shape=(), dtype=float32, numpy=-0.20318396>)"
      ]
     },
     "execution_count": 62,
     "metadata": {},
     "output_type": "execute_result"
    }
   ],
   "source": [
    "dw, db = tape.gradient(mse, [w, b])\n",
    "dw, db"
   ]
  },
  {
   "cell_type": "code",
   "execution_count": 63,
   "metadata": {},
   "outputs": [
    {
     "data": {
      "text/plain": [
       "<tf.Variable 'UnreadVariable' shape=() dtype=float32, numpy=-0.09796816>"
      ]
     },
     "execution_count": 63,
     "metadata": {},
     "output_type": "execute_result"
    }
   ],
   "source": [
    "w.assign(w - 0.01 * dw)\n",
    "b.assign(b - 0.01 * db)"
   ]
  },
  {
   "cell_type": "code",
   "execution_count": 70,
   "metadata": {},
   "outputs": [
    {
     "data": {
      "text/plain": [
       "[<matplotlib.lines.Line2D at 0x7f0cc457a690>]"
      ]
     },
     "execution_count": 70,
     "metadata": {},
     "output_type": "execute_result"
    },
    {
     "data": {
      "image/png": "[encoded data removed]",
      "text/plain": [
       "<Figure size 432x288 with 1 Axes>"
      ]
     },
     "metadata": {
      "needs_background": "light"
     },
     "output_type": "display_data"
    }
   ],
   "source": [
    "import matplotlib.pyplot as plt\n",
    "plt.plot(x, y_hat)"
   ]
  }
 ],
 "metadata": {
  "kernelspec": {
   "display_name": "Python 3",
   "language": "python",
   "name": "python3"
  },
  "language_info": {
   "codemirror_mode": {
    "name": "ipython",
    "version": 3
   },
   "file_extension": ".py",
   "mimetype": "text/x-python",
   "name": "python",
   "nbconvert_exporter": "python",
   "pygments_lexer": "ipython3",
   "version": "3.7.8"
  }
 },
 "nbformat": 4,
 "nbformat_minor": 4
}
